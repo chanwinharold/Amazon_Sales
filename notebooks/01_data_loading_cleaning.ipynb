{
 "cells": [
  {
   "metadata": {},
   "cell_type": "markdown",
   "source": "## Compréhension des données",
   "id": "454d330edb9c3238"
  },
  {
   "cell_type": "code",
   "id": "initial_id",
   "metadata": {
    "collapsed": true,
    "ExecuteTime": {
     "end_time": "2025-05-20T15:55:35.789520Z",
     "start_time": "2025-05-20T15:55:35.787564Z"
    }
   },
   "source": [
    "# Importation des librairies\n",
    "import pandas as pd"
   ],
   "outputs": [],
   "execution_count": 1
  },
  {
   "metadata": {
    "ExecuteTime": {
     "end_time": "2025-05-20T15:55:35.815361Z",
     "start_time": "2025-05-20T15:55:35.802443Z"
    }
   },
   "cell_type": "code",
   "source": [
    "data = pd.read_csv(\"../data/amazon_sales_data 2025.csv\")\n",
    "data.head(10)"
   ],
   "id": "37a21ce4c349ceb0",
   "outputs": [
    {
     "data": {
      "text/plain": [
       "  Order ID      Date        Product     Category  Price  Quantity  \\\n",
       "0  ORD0001  14-03-25  Running Shoes     Footwear     60         3   \n",
       "1  ORD0002  20-03-25     Headphones  Electronics    100         4   \n",
       "2  ORD0003  15-02-25  Running Shoes     Footwear     60         2   \n",
       "3  ORD0004  19-02-25  Running Shoes     Footwear     60         3   \n",
       "4  ORD0005  10-03-25     Smartwatch  Electronics    150         3   \n",
       "5  ORD0006  14-03-25        T-Shirt     Clothing     20         1   \n",
       "6  ORD0007  18-03-25     Smartwatch  Electronics    150         4   \n",
       "7  ORD0008  02-03-25     Smartphone  Electronics    500         1   \n",
       "8  ORD0009  08-03-25        T-Shirt     Clothing     20         3   \n",
       "9  ORD0010  12-03-25     Smartphone  Electronics    500         1   \n",
       "\n",
       "   Total Sales  Customer Name Customer Location Payment Method     Status  \n",
       "0          180     Emma Clark          New York     Debit Card  Cancelled  \n",
       "1          400  Emily Johnson     San Francisco     Debit Card    Pending  \n",
       "2          120       John Doe            Denver     Amazon Pay  Cancelled  \n",
       "3          180  Olivia Wilson            Dallas    Credit Card    Pending  \n",
       "4          450     Emma Clark          New York     Debit Card    Pending  \n",
       "5           20       John Doe            Dallas    Credit Card    Pending  \n",
       "6          600     Emma Clark           Houston         PayPal  Completed  \n",
       "7          500  Sophia Miller             Miami         PayPal  Completed  \n",
       "8           60  Sophia Miller            Boston         PayPal  Completed  \n",
       "9          500  Emily Johnson     San Francisco    Credit Card  Cancelled  "
      ],
      "text/html": [
       "<div>\n",
       "<style scoped>\n",
       "    .dataframe tbody tr th:only-of-type {\n",
       "        vertical-align: middle;\n",
       "    }\n",
       "\n",
       "    .dataframe tbody tr th {\n",
       "        vertical-align: top;\n",
       "    }\n",
       "\n",
       "    .dataframe thead th {\n",
       "        text-align: right;\n",
       "    }\n",
       "</style>\n",
       "<table border=\"1\" class=\"dataframe\">\n",
       "  <thead>\n",
       "    <tr style=\"text-align: right;\">\n",
       "      <th></th>\n",
       "      <th>Order ID</th>\n",
       "      <th>Date</th>\n",
       "      <th>Product</th>\n",
       "      <th>Category</th>\n",
       "      <th>Price</th>\n",
       "      <th>Quantity</th>\n",
       "      <th>Total Sales</th>\n",
       "      <th>Customer Name</th>\n",
       "      <th>Customer Location</th>\n",
       "      <th>Payment Method</th>\n",
       "      <th>Status</th>\n",
       "    </tr>\n",
       "  </thead>\n",
       "  <tbody>\n",
       "    <tr>\n",
       "      <th>0</th>\n",
       "      <td>ORD0001</td>\n",
       "      <td>14-03-25</td>\n",
       "      <td>Running Shoes</td>\n",
       "      <td>Footwear</td>\n",
       "      <td>60</td>\n",
       "      <td>3</td>\n",
       "      <td>180</td>\n",
       "      <td>Emma Clark</td>\n",
       "      <td>New York</td>\n",
       "      <td>Debit Card</td>\n",
       "      <td>Cancelled</td>\n",
       "    </tr>\n",
       "    <tr>\n",
       "      <th>1</th>\n",
       "      <td>ORD0002</td>\n",
       "      <td>20-03-25</td>\n",
       "      <td>Headphones</td>\n",
       "      <td>Electronics</td>\n",
       "      <td>100</td>\n",
       "      <td>4</td>\n",
       "      <td>400</td>\n",
       "      <td>Emily Johnson</td>\n",
       "      <td>San Francisco</td>\n",
       "      <td>Debit Card</td>\n",
       "      <td>Pending</td>\n",
       "    </tr>\n",
       "    <tr>\n",
       "      <th>2</th>\n",
       "      <td>ORD0003</td>\n",
       "      <td>15-02-25</td>\n",
       "      <td>Running Shoes</td>\n",
       "      <td>Footwear</td>\n",
       "      <td>60</td>\n",
       "      <td>2</td>\n",
       "      <td>120</td>\n",
       "      <td>John Doe</td>\n",
       "      <td>Denver</td>\n",
       "      <td>Amazon Pay</td>\n",
       "      <td>Cancelled</td>\n",
       "    </tr>\n",
       "    <tr>\n",
       "      <th>3</th>\n",
       "      <td>ORD0004</td>\n",
       "      <td>19-02-25</td>\n",
       "      <td>Running Shoes</td>\n",
       "      <td>Footwear</td>\n",
       "      <td>60</td>\n",
       "      <td>3</td>\n",
       "      <td>180</td>\n",
       "      <td>Olivia Wilson</td>\n",
       "      <td>Dallas</td>\n",
       "      <td>Credit Card</td>\n",
       "      <td>Pending</td>\n",
       "    </tr>\n",
       "    <tr>\n",
       "      <th>4</th>\n",
       "      <td>ORD0005</td>\n",
       "      <td>10-03-25</td>\n",
       "      <td>Smartwatch</td>\n",
       "      <td>Electronics</td>\n",
       "      <td>150</td>\n",
       "      <td>3</td>\n",
       "      <td>450</td>\n",
       "      <td>Emma Clark</td>\n",
       "      <td>New York</td>\n",
       "      <td>Debit Card</td>\n",
       "      <td>Pending</td>\n",
       "    </tr>\n",
       "    <tr>\n",
       "      <th>5</th>\n",
       "      <td>ORD0006</td>\n",
       "      <td>14-03-25</td>\n",
       "      <td>T-Shirt</td>\n",
       "      <td>Clothing</td>\n",
       "      <td>20</td>\n",
       "      <td>1</td>\n",
       "      <td>20</td>\n",
       "      <td>John Doe</td>\n",
       "      <td>Dallas</td>\n",
       "      <td>Credit Card</td>\n",
       "      <td>Pending</td>\n",
       "    </tr>\n",
       "    <tr>\n",
       "      <th>6</th>\n",
       "      <td>ORD0007</td>\n",
       "      <td>18-03-25</td>\n",
       "      <td>Smartwatch</td>\n",
       "      <td>Electronics</td>\n",
       "      <td>150</td>\n",
       "      <td>4</td>\n",
       "      <td>600</td>\n",
       "      <td>Emma Clark</td>\n",
       "      <td>Houston</td>\n",
       "      <td>PayPal</td>\n",
       "      <td>Completed</td>\n",
       "    </tr>\n",
       "    <tr>\n",
       "      <th>7</th>\n",
       "      <td>ORD0008</td>\n",
       "      <td>02-03-25</td>\n",
       "      <td>Smartphone</td>\n",
       "      <td>Electronics</td>\n",
       "      <td>500</td>\n",
       "      <td>1</td>\n",
       "      <td>500</td>\n",
       "      <td>Sophia Miller</td>\n",
       "      <td>Miami</td>\n",
       "      <td>PayPal</td>\n",
       "      <td>Completed</td>\n",
       "    </tr>\n",
       "    <tr>\n",
       "      <th>8</th>\n",
       "      <td>ORD0009</td>\n",
       "      <td>08-03-25</td>\n",
       "      <td>T-Shirt</td>\n",
       "      <td>Clothing</td>\n",
       "      <td>20</td>\n",
       "      <td>3</td>\n",
       "      <td>60</td>\n",
       "      <td>Sophia Miller</td>\n",
       "      <td>Boston</td>\n",
       "      <td>PayPal</td>\n",
       "      <td>Completed</td>\n",
       "    </tr>\n",
       "    <tr>\n",
       "      <th>9</th>\n",
       "      <td>ORD0010</td>\n",
       "      <td>12-03-25</td>\n",
       "      <td>Smartphone</td>\n",
       "      <td>Electronics</td>\n",
       "      <td>500</td>\n",
       "      <td>1</td>\n",
       "      <td>500</td>\n",
       "      <td>Emily Johnson</td>\n",
       "      <td>San Francisco</td>\n",
       "      <td>Credit Card</td>\n",
       "      <td>Cancelled</td>\n",
       "    </tr>\n",
       "  </tbody>\n",
       "</table>\n",
       "</div>"
      ]
     },
     "execution_count": 2,
     "metadata": {},
     "output_type": "execute_result"
    }
   ],
   "execution_count": 2
  },
  {
   "metadata": {},
   "cell_type": "markdown",
   "source": "Dans notre DataFrame, nous avons 11 variables dont huit qualitatives et trois quantitatives. À première vue, notre DataFrame semble être clean (pas d'incohérence, pas de valeurs manquantes NaN, ni d'erreurs lexicales ou de formatage). On aura à modifier la colonne `Date` en format datetime.",
   "id": "d86b696954d09c44"
  },
  {
   "metadata": {
    "ExecuteTime": {
     "end_time": "2025-05-20T15:55:35.902420Z",
     "start_time": "2025-05-20T15:55:35.900422Z"
    }
   },
   "cell_type": "code",
   "source": [
    "# Dimensions de la DataFrame\n",
    "data.shape"
   ],
   "id": "990460b61905bbfb",
   "outputs": [
    {
     "data": {
      "text/plain": [
       "(250, 11)"
      ]
     },
     "execution_count": 3,
     "metadata": {},
     "output_type": "execute_result"
    }
   ],
   "execution_count": 3
  },
  {
   "metadata": {},
   "cell_type": "markdown",
   "source": "On a 250 observations et 11 variables.",
   "id": "ef3a3c307b52fe99"
  },
  {
   "metadata": {
    "ExecuteTime": {
     "end_time": "2025-05-20T15:55:35.942089Z",
     "start_time": "2025-05-20T15:55:35.934901Z"
    }
   },
   "cell_type": "code",
   "source": "data.info()",
   "id": "f52426813ca642c1",
   "outputs": [
    {
     "name": "stdout",
     "output_type": "stream",
     "text": [
      "<class 'pandas.core.frame.DataFrame'>\n",
      "RangeIndex: 250 entries, 0 to 249\n",
      "Data columns (total 11 columns):\n",
      " #   Column             Non-Null Count  Dtype \n",
      "---  ------             --------------  ----- \n",
      " 0   Order ID           250 non-null    object\n",
      " 1   Date               250 non-null    object\n",
      " 2   Product            250 non-null    object\n",
      " 3   Category           250 non-null    object\n",
      " 4   Price              250 non-null    int64 \n",
      " 5   Quantity           250 non-null    int64 \n",
      " 6   Total Sales        250 non-null    int64 \n",
      " 7   Customer Name      250 non-null    object\n",
      " 8   Customer Location  250 non-null    object\n",
      " 9   Payment Method     250 non-null    object\n",
      " 10  Status             250 non-null    object\n",
      "dtypes: int64(3), object(8)\n",
      "memory usage: 21.6+ KB\n"
     ]
    }
   ],
   "execution_count": 4
  },
  {
   "metadata": {},
   "cell_type": "markdown",
   "source": "Aucune colonne ne contient des valeurs manquantes, les variables sont au bon format (sauf la `Date` qu'on modifiera plus bas). Tout semble nickel !",
   "id": "e333d91bbc74307b"
  },
  {
   "metadata": {
    "ExecuteTime": {
     "end_time": "2025-05-20T15:55:36.005116Z",
     "start_time": "2025-05-20T15:55:35.989120Z"
    }
   },
   "cell_type": "code",
   "source": [
    "# Résumé descriptif des variables\n",
    "data.describe()"
   ],
   "id": "45a977fcc607950d",
   "outputs": [
    {
     "data": {
      "text/plain": [
       "             Price    Quantity  Total Sales\n",
       "count   250.000000  250.000000   250.000000\n",
       "mean    343.580000    2.856000   975.380000\n",
       "std     380.635808    1.429489  1252.112254\n",
       "min      15.000000    1.000000    15.000000\n",
       "25%      40.000000    2.000000   100.000000\n",
       "50%     150.000000    3.000000   400.000000\n",
       "75%     600.000000    4.000000  1500.000000\n",
       "max    1200.000000    5.000000  6000.000000"
      ],
      "text/html": [
       "<div>\n",
       "<style scoped>\n",
       "    .dataframe tbody tr th:only-of-type {\n",
       "        vertical-align: middle;\n",
       "    }\n",
       "\n",
       "    .dataframe tbody tr th {\n",
       "        vertical-align: top;\n",
       "    }\n",
       "\n",
       "    .dataframe thead th {\n",
       "        text-align: right;\n",
       "    }\n",
       "</style>\n",
       "<table border=\"1\" class=\"dataframe\">\n",
       "  <thead>\n",
       "    <tr style=\"text-align: right;\">\n",
       "      <th></th>\n",
       "      <th>Price</th>\n",
       "      <th>Quantity</th>\n",
       "      <th>Total Sales</th>\n",
       "    </tr>\n",
       "  </thead>\n",
       "  <tbody>\n",
       "    <tr>\n",
       "      <th>count</th>\n",
       "      <td>250.000000</td>\n",
       "      <td>250.000000</td>\n",
       "      <td>250.000000</td>\n",
       "    </tr>\n",
       "    <tr>\n",
       "      <th>mean</th>\n",
       "      <td>343.580000</td>\n",
       "      <td>2.856000</td>\n",
       "      <td>975.380000</td>\n",
       "    </tr>\n",
       "    <tr>\n",
       "      <th>std</th>\n",
       "      <td>380.635808</td>\n",
       "      <td>1.429489</td>\n",
       "      <td>1252.112254</td>\n",
       "    </tr>\n",
       "    <tr>\n",
       "      <th>min</th>\n",
       "      <td>15.000000</td>\n",
       "      <td>1.000000</td>\n",
       "      <td>15.000000</td>\n",
       "    </tr>\n",
       "    <tr>\n",
       "      <th>25%</th>\n",
       "      <td>40.000000</td>\n",
       "      <td>2.000000</td>\n",
       "      <td>100.000000</td>\n",
       "    </tr>\n",
       "    <tr>\n",
       "      <th>50%</th>\n",
       "      <td>150.000000</td>\n",
       "      <td>3.000000</td>\n",
       "      <td>400.000000</td>\n",
       "    </tr>\n",
       "    <tr>\n",
       "      <th>75%</th>\n",
       "      <td>600.000000</td>\n",
       "      <td>4.000000</td>\n",
       "      <td>1500.000000</td>\n",
       "    </tr>\n",
       "    <tr>\n",
       "      <th>max</th>\n",
       "      <td>1200.000000</td>\n",
       "      <td>5.000000</td>\n",
       "      <td>6000.000000</td>\n",
       "    </tr>\n",
       "  </tbody>\n",
       "</table>\n",
       "</div>"
      ]
     },
     "execution_count": 5,
     "metadata": {},
     "output_type": "execute_result"
    }
   ],
   "execution_count": 5
  },
  {
   "metadata": {},
   "cell_type": "markdown",
   "source": "Les variables quantitatives semblent être correcte d'un point de vue répartition. On peut juste remarquer une forte dispersion du prix et du total des ventes.",
   "id": "bedd6990c87bfa45"
  },
  {
   "metadata": {},
   "cell_type": "markdown",
   "source": "En tout, la DataFrame semble être assez propre. Lors de notre analyse, on se concentrera sur des indicateurs clés tels que la quantité moyenne de commandes, le prix total des ventes, etc.",
   "id": "31b90c57819148dd"
  },
  {
   "metadata": {},
   "cell_type": "markdown",
   "source": "## Nettoyage et Préparation des Données",
   "id": "177f946d1eeb07de"
  },
  {
   "metadata": {},
   "cell_type": "markdown",
   "source": [
    "À présent, on s'occupe de la mise en forme de la DataFrame :\n",
    "- Standardisation des noms de variables\n",
    "- Formatage des dates\n",
    "- Vérification de la cohérence `prix * quantité = Total Sales`\n",
    "- Suppression des doublons"
   ],
   "id": "c4c57b9f7c6bfaa5"
  },
  {
   "metadata": {
    "ExecuteTime": {
     "end_time": "2025-05-20T15:55:36.172043Z",
     "start_time": "2025-05-20T15:55:36.168298Z"
    }
   },
   "cell_type": "code",
   "source": [
    "# fonction de standardisation\n",
    "def stand_col(colname:str) -> str:\n",
    "    colname = str.lower(colname.replace(\" \", \"_\"))\n",
    "    return colname"
   ],
   "id": "a5137ab39528fe8d",
   "outputs": [],
   "execution_count": 6
  },
  {
   "metadata": {
    "ExecuteTime": {
     "end_time": "2025-05-20T15:55:36.285007Z",
     "start_time": "2025-05-20T15:55:36.275769Z"
    }
   },
   "cell_type": "code",
   "source": [
    "# Standardisation des noms de colonnes\n",
    "for column in data.columns:\n",
    "    data.rename(columns={\n",
    "        column: stand_col(column)\n",
    "    }, inplace=True)"
   ],
   "id": "ff5e73a93647a3e4",
   "outputs": [],
   "execution_count": 7
  },
  {
   "metadata": {
    "ExecuteTime": {
     "end_time": "2025-05-20T15:55:36.373367Z",
     "start_time": "2025-05-20T15:55:36.367225Z"
    }
   },
   "cell_type": "code",
   "source": "data.columns",
   "id": "fefa0b56f7237d1c",
   "outputs": [
    {
     "data": {
      "text/plain": [
       "Index(['order_id', 'date', 'product', 'category', 'price', 'quantity',\n",
       "       'total_sales', 'customer_name', 'customer_location', 'payment_method',\n",
       "       'status'],\n",
       "      dtype='object')"
      ]
     },
     "execution_count": 8,
     "metadata": {},
     "output_type": "execute_result"
    }
   ],
   "execution_count": 8
  },
  {
   "metadata": {},
   "cell_type": "markdown",
   "source": "Colonnes bien renommées.",
   "id": "b7a39bf0765bff40"
  },
  {
   "metadata": {
    "ExecuteTime": {
     "end_time": "2025-05-20T15:55:36.446387Z",
     "start_time": "2025-05-20T15:55:36.439029Z"
    }
   },
   "cell_type": "code",
   "source": [
    "# Formatage de la colonne `date`\n",
    "data['date'] = pd.to_datetime(data['date'], format=\"%d-%m-%y\", errors=\"coerce\")"
   ],
   "id": "59f6dbe2355f897a",
   "outputs": [],
   "execution_count": 9
  },
  {
   "metadata": {
    "ExecuteTime": {
     "end_time": "2025-05-20T15:55:36.496584Z",
     "start_time": "2025-05-20T15:55:36.491015Z"
    }
   },
   "cell_type": "code",
   "source": "data['date'].head(3)",
   "id": "eddebe20a5b7e626",
   "outputs": [
    {
     "data": {
      "text/plain": [
       "0   2025-03-14\n",
       "1   2025-03-20\n",
       "2   2025-02-15\n",
       "Name: date, dtype: datetime64[ns]"
      ]
     },
     "execution_count": 10,
     "metadata": {},
     "output_type": "execute_result"
    }
   ],
   "execution_count": 10
  },
  {
   "metadata": {},
   "cell_type": "markdown",
   "source": "Date formatée avec succès",
   "id": "f580895761332054"
  },
  {
   "metadata": {
    "ExecuteTime": {
     "end_time": "2025-05-20T15:55:36.573977Z",
     "start_time": "2025-05-20T15:55:36.570172Z"
    }
   },
   "cell_type": "code",
   "source": [
    "# Vérification de la cohérence `prix * quantité = Total Sales`\n",
    "mask = (data['total_sales'] != data['price'] * data['quantity'])\n",
    "data.loc[mask, 'order_id']"
   ],
   "id": "4684475812658b9d",
   "outputs": [
    {
     "data": {
      "text/plain": [
       "Series([], Name: order_id, dtype: object)"
      ]
     },
     "execution_count": 11,
     "metadata": {},
     "output_type": "execute_result"
    }
   ],
   "execution_count": 11
  },
  {
   "metadata": {},
   "cell_type": "markdown",
   "source": "Aucune incohérence détecté",
   "id": "fce15ea9845d2334"
  },
  {
   "metadata": {
    "ExecuteTime": {
     "end_time": "2025-05-20T15:55:36.624438Z",
     "start_time": "2025-05-20T15:55:36.618808Z"
    }
   },
   "cell_type": "code",
   "source": [
    "# Vérification des doublons\n",
    "data.duplicated().sum()"
   ],
   "id": "22c39e745ea51018",
   "outputs": [
    {
     "data": {
      "text/plain": [
       "np.int64(0)"
      ]
     },
     "execution_count": 12,
     "metadata": {},
     "output_type": "execute_result"
    }
   ],
   "execution_count": 12
  },
  {
   "metadata": {},
   "cell_type": "markdown",
   "source": "Aucun doublon",
   "id": "97336e71821a9aee"
  },
  {
   "metadata": {},
   "cell_type": "markdown",
   "source": "On peut à présent sauvegarder notre jeu de données nettoyé.",
   "id": "371bc4279b9716ed"
  },
  {
   "metadata": {
    "ExecuteTime": {
     "end_time": "2025-05-20T15:55:36.680355Z",
     "start_time": "2025-05-20T15:55:36.672748Z"
    }
   },
   "cell_type": "code",
   "source": "data.to_csv(\"../output/cleaned_data/data_clean.csv\", index=False)",
   "id": "db7ce275430f4c98",
   "outputs": [],
   "execution_count": 13
  }
 ],
 "metadata": {
  "kernelspec": {
   "display_name": "Python 3",
   "language": "python",
   "name": "python3"
  },
  "language_info": {
   "codemirror_mode": {
    "name": "ipython",
    "version": 2
   },
   "file_extension": ".py",
   "mimetype": "text/x-python",
   "name": "python",
   "nbconvert_exporter": "python",
   "pygments_lexer": "ipython2",
   "version": "2.7.6"
  }
 },
 "nbformat": 4,
 "nbformat_minor": 5
}
