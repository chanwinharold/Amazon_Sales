{
 "cells": [
  {
   "metadata": {},
   "cell_type": "markdown",
   "source": "# Tests Statistiques",
   "id": "615ed198fffe40e8"
  },
  {
   "metadata": {
    "ExecuteTime": {
     "end_time": "2025-05-19T20:47:55.143526Z",
     "start_time": "2025-05-19T20:47:55.140319Z"
    }
   },
   "cell_type": "code",
   "source": [
    "# Importation des librairies\n",
    "import pandas as pd\n",
    "import matplotlib.pyplot as plt\n",
    "import seaborn as sns\n",
    "from scipy.stats import chi2_contingency, spearmanr, pearsonr, shapiro, kruskal"
   ],
   "id": "d1e56b722900eb4d",
   "outputs": [],
   "execution_count": 139
  },
  {
   "metadata": {
    "ExecuteTime": {
     "end_time": "2025-05-19T20:47:55.164738Z",
     "start_time": "2025-05-19T20:47:55.154815Z"
    }
   },
   "cell_type": "code",
   "source": [
    "data = pd.read_csv('../output/cleaned_data/data_clean.csv', parse_dates=['date'])\n",
    "data.head()"
   ],
   "id": "b2650c2d91cc82f3",
   "outputs": [
    {
     "data": {
      "text/plain": [
       "  order_id       date        product     category  price  quantity  \\\n",
       "0  ORD0001 2025-03-14  Running Shoes     Footwear     60         3   \n",
       "1  ORD0002 2025-03-20     Headphones  Electronics    100         4   \n",
       "2  ORD0003 2025-02-15  Running Shoes     Footwear     60         2   \n",
       "3  ORD0004 2025-02-19  Running Shoes     Footwear     60         3   \n",
       "4  ORD0005 2025-03-10     Smartwatch  Electronics    150         3   \n",
       "\n",
       "   total_sales  customer_name customer_location payment_method     status  \n",
       "0          180     Emma Clark          New York     Debit Card  Cancelled  \n",
       "1          400  Emily Johnson     San Francisco     Debit Card    Pending  \n",
       "2          120       John Doe            Denver     Amazon Pay  Cancelled  \n",
       "3          180  Olivia Wilson            Dallas    Credit Card    Pending  \n",
       "4          450     Emma Clark          New York     Debit Card    Pending  "
      ],
      "text/html": [
       "<div>\n",
       "<style scoped>\n",
       "    .dataframe tbody tr th:only-of-type {\n",
       "        vertical-align: middle;\n",
       "    }\n",
       "\n",
       "    .dataframe tbody tr th {\n",
       "        vertical-align: top;\n",
       "    }\n",
       "\n",
       "    .dataframe thead th {\n",
       "        text-align: right;\n",
       "    }\n",
       "</style>\n",
       "<table border=\"1\" class=\"dataframe\">\n",
       "  <thead>\n",
       "    <tr style=\"text-align: right;\">\n",
       "      <th></th>\n",
       "      <th>order_id</th>\n",
       "      <th>date</th>\n",
       "      <th>product</th>\n",
       "      <th>category</th>\n",
       "      <th>price</th>\n",
       "      <th>quantity</th>\n",
       "      <th>total_sales</th>\n",
       "      <th>customer_name</th>\n",
       "      <th>customer_location</th>\n",
       "      <th>payment_method</th>\n",
       "      <th>status</th>\n",
       "    </tr>\n",
       "  </thead>\n",
       "  <tbody>\n",
       "    <tr>\n",
       "      <th>0</th>\n",
       "      <td>ORD0001</td>\n",
       "      <td>2025-03-14</td>\n",
       "      <td>Running Shoes</td>\n",
       "      <td>Footwear</td>\n",
       "      <td>60</td>\n",
       "      <td>3</td>\n",
       "      <td>180</td>\n",
       "      <td>Emma Clark</td>\n",
       "      <td>New York</td>\n",
       "      <td>Debit Card</td>\n",
       "      <td>Cancelled</td>\n",
       "    </tr>\n",
       "    <tr>\n",
       "      <th>1</th>\n",
       "      <td>ORD0002</td>\n",
       "      <td>2025-03-20</td>\n",
       "      <td>Headphones</td>\n",
       "      <td>Electronics</td>\n",
       "      <td>100</td>\n",
       "      <td>4</td>\n",
       "      <td>400</td>\n",
       "      <td>Emily Johnson</td>\n",
       "      <td>San Francisco</td>\n",
       "      <td>Debit Card</td>\n",
       "      <td>Pending</td>\n",
       "    </tr>\n",
       "    <tr>\n",
       "      <th>2</th>\n",
       "      <td>ORD0003</td>\n",
       "      <td>2025-02-15</td>\n",
       "      <td>Running Shoes</td>\n",
       "      <td>Footwear</td>\n",
       "      <td>60</td>\n",
       "      <td>2</td>\n",
       "      <td>120</td>\n",
       "      <td>John Doe</td>\n",
       "      <td>Denver</td>\n",
       "      <td>Amazon Pay</td>\n",
       "      <td>Cancelled</td>\n",
       "    </tr>\n",
       "    <tr>\n",
       "      <th>3</th>\n",
       "      <td>ORD0004</td>\n",
       "      <td>2025-02-19</td>\n",
       "      <td>Running Shoes</td>\n",
       "      <td>Footwear</td>\n",
       "      <td>60</td>\n",
       "      <td>3</td>\n",
       "      <td>180</td>\n",
       "      <td>Olivia Wilson</td>\n",
       "      <td>Dallas</td>\n",
       "      <td>Credit Card</td>\n",
       "      <td>Pending</td>\n",
       "    </tr>\n",
       "    <tr>\n",
       "      <th>4</th>\n",
       "      <td>ORD0005</td>\n",
       "      <td>2025-03-10</td>\n",
       "      <td>Smartwatch</td>\n",
       "      <td>Electronics</td>\n",
       "      <td>150</td>\n",
       "      <td>3</td>\n",
       "      <td>450</td>\n",
       "      <td>Emma Clark</td>\n",
       "      <td>New York</td>\n",
       "      <td>Debit Card</td>\n",
       "      <td>Pending</td>\n",
       "    </tr>\n",
       "  </tbody>\n",
       "</table>\n",
       "</div>"
      ]
     },
     "execution_count": 140,
     "metadata": {},
     "output_type": "execute_result"
    }
   ],
   "execution_count": 140
  },
  {
   "metadata": {},
   "cell_type": "markdown",
   "source": [
    "Avant de démarrer cette étape, quels sont les hypothèses que nous cherchons à vérifier ?\n",
    "Lors de l'étape précédente, il a été question d'analyse univariée et bivariée au cours duquel nous avons réalisées des visualisations pour comprendre les relations existantes entre nos différentes variables. Et grâce à ces graphiques, nous avions émis plusieurs hypothèses :\n",
    "\n"
   ],
   "id": "60e48ae2bd8a27e8"
  },
  {
   "metadata": {},
   "cell_type": "markdown",
   "source": "***I.*** Nous nous étions demandé si dans certaines villes, certains produits avaient plus tendances à être commandé que d'autres. Au final, on avait remarqué que les produits de la catégorie Electronics avait plus de succès dans la plupart des villes et donc qu'il existerait bien un lien.",
   "id": "cf1b7274149b60e"
  },
  {
   "metadata": {},
   "cell_type": "markdown",
   "source": [
    "Il s'agit de deux variables catégorielles, l'une composée de 5 sous-catégories et l'autre de 10 sous-catégories.\n",
    "Par conséquent, On utilisera le ***test Chi-2***. On commence par visualiser nos deux variables à travers un Clustermap"
   ],
   "id": "5e8ac8af7acd3ac7"
  },
  {
   "cell_type": "code",
   "id": "initial_id",
   "metadata": {
    "collapsed": true,
    "ExecuteTime": {
     "end_time": "2025-05-19T20:47:55.225621Z",
     "start_time": "2025-05-19T20:47:55.213129Z"
    }
   },
   "source": [
    "# Tableau de contingence\n",
    "categorie, city = data['category'], data['customer_location']\n",
    "table_contingency = pd.crosstab(categorie, city)\n",
    "table_contingency"
   ],
   "outputs": [
    {
     "data": {
      "text/plain": [
       "customer_location  Boston  Chicago  Dallas  Denver  Houston  Los Angeles  \\\n",
       "category                                                                   \n",
       "Books                   5        3       1       1        2            1   \n",
       "Clothing                4        4      10       5        1            1   \n",
       "Electronics            10       12       8      13       18           10   \n",
       "Footwear                2        1       2       3        8            3   \n",
       "Home Appliances         5        2       8       4        3            2   \n",
       "\n",
       "customer_location  Miami  New York  San Francisco  Seattle  \n",
       "category                                                    \n",
       "Books                  4         2              4        2  \n",
       "Clothing               3         8              1        3  \n",
       "Electronics           16        11             10       10  \n",
       "Footwear               3         2              3        0  \n",
       "Home Appliances        5         3              1        7  "
      ],
      "text/html": [
       "<div>\n",
       "<style scoped>\n",
       "    .dataframe tbody tr th:only-of-type {\n",
       "        vertical-align: middle;\n",
       "    }\n",
       "\n",
       "    .dataframe tbody tr th {\n",
       "        vertical-align: top;\n",
       "    }\n",
       "\n",
       "    .dataframe thead th {\n",
       "        text-align: right;\n",
       "    }\n",
       "</style>\n",
       "<table border=\"1\" class=\"dataframe\">\n",
       "  <thead>\n",
       "    <tr style=\"text-align: right;\">\n",
       "      <th>customer_location</th>\n",
       "      <th>Boston</th>\n",
       "      <th>Chicago</th>\n",
       "      <th>Dallas</th>\n",
       "      <th>Denver</th>\n",
       "      <th>Houston</th>\n",
       "      <th>Los Angeles</th>\n",
       "      <th>Miami</th>\n",
       "      <th>New York</th>\n",
       "      <th>San Francisco</th>\n",
       "      <th>Seattle</th>\n",
       "    </tr>\n",
       "    <tr>\n",
       "      <th>category</th>\n",
       "      <th></th>\n",
       "      <th></th>\n",
       "      <th></th>\n",
       "      <th></th>\n",
       "      <th></th>\n",
       "      <th></th>\n",
       "      <th></th>\n",
       "      <th></th>\n",
       "      <th></th>\n",
       "      <th></th>\n",
       "    </tr>\n",
       "  </thead>\n",
       "  <tbody>\n",
       "    <tr>\n",
       "      <th>Books</th>\n",
       "      <td>5</td>\n",
       "      <td>3</td>\n",
       "      <td>1</td>\n",
       "      <td>1</td>\n",
       "      <td>2</td>\n",
       "      <td>1</td>\n",
       "      <td>4</td>\n",
       "      <td>2</td>\n",
       "      <td>4</td>\n",
       "      <td>2</td>\n",
       "    </tr>\n",
       "    <tr>\n",
       "      <th>Clothing</th>\n",
       "      <td>4</td>\n",
       "      <td>4</td>\n",
       "      <td>10</td>\n",
       "      <td>5</td>\n",
       "      <td>1</td>\n",
       "      <td>1</td>\n",
       "      <td>3</td>\n",
       "      <td>8</td>\n",
       "      <td>1</td>\n",
       "      <td>3</td>\n",
       "    </tr>\n",
       "    <tr>\n",
       "      <th>Electronics</th>\n",
       "      <td>10</td>\n",
       "      <td>12</td>\n",
       "      <td>8</td>\n",
       "      <td>13</td>\n",
       "      <td>18</td>\n",
       "      <td>10</td>\n",
       "      <td>16</td>\n",
       "      <td>11</td>\n",
       "      <td>10</td>\n",
       "      <td>10</td>\n",
       "    </tr>\n",
       "    <tr>\n",
       "      <th>Footwear</th>\n",
       "      <td>2</td>\n",
       "      <td>1</td>\n",
       "      <td>2</td>\n",
       "      <td>3</td>\n",
       "      <td>8</td>\n",
       "      <td>3</td>\n",
       "      <td>3</td>\n",
       "      <td>2</td>\n",
       "      <td>3</td>\n",
       "      <td>0</td>\n",
       "    </tr>\n",
       "    <tr>\n",
       "      <th>Home Appliances</th>\n",
       "      <td>5</td>\n",
       "      <td>2</td>\n",
       "      <td>8</td>\n",
       "      <td>4</td>\n",
       "      <td>3</td>\n",
       "      <td>2</td>\n",
       "      <td>5</td>\n",
       "      <td>3</td>\n",
       "      <td>1</td>\n",
       "      <td>7</td>\n",
       "    </tr>\n",
       "  </tbody>\n",
       "</table>\n",
       "</div>"
      ]
     },
     "execution_count": 141,
     "metadata": {},
     "output_type": "execute_result"
    }
   ],
   "execution_count": 141
  },
  {
   "metadata": {
    "ExecuteTime": {
     "end_time": "2025-05-19T20:47:55.557008Z",
     "start_time": "2025-05-19T20:47:55.325390Z"
    }
   },
   "cell_type": "code",
   "source": [
    "# Visualisation\n",
    "plt.figure(figsize=(20, 8))\n",
    "sns.clustermap(table_contingency)"
   ],
   "id": "f469c01aa21f50ce",
   "outputs": [
    {
     "data": {
      "text/plain": [
       "<seaborn.matrix.ClusterGrid at 0x7fe1c67348c0>"
      ]
     },
     "execution_count": 142,
     "metadata": {},
     "output_type": "execute_result"
    },
    {
     "data": {
      "text/plain": [
       "<Figure size 2000x800 with 0 Axes>"
      ]
     },
     "metadata": {},
     "output_type": "display_data"
    },
    {
     "data": {
      "text/plain": [
       "<Figure size 1000x1000 with 4 Axes>"
      ],
      "image/png": "[encoded data removed]"
     },
     "metadata": {},
     "output_type": "display_data"
    }
   ],
   "execution_count": 142
  },
  {
   "metadata": {},
   "cell_type": "markdown",
   "source": [
    "Puis, on émet nos hypothèses :\n",
    "\n",
    "Hypothèse nulle H0 : La ville de commande d'un produit est indépendante de la catégorie de ce produit.\n",
    "\n",
    "Hypothèse alternative H1 : La ville de commande d'un produit dépend de la catégorie de ce produit."
   ],
   "id": "a136e015072a8c10"
  },
  {
   "metadata": {
    "ExecuteTime": {
     "end_time": "2025-05-19T20:47:55.566478Z",
     "start_time": "2025-05-19T20:47:55.563851Z"
    }
   },
   "cell_type": "code",
   "source": [
    "# Test de Chi-2\n",
    "chi2_stat, p_value, dof, expected = chi2_contingency(table_contingency)\n",
    "print(\n",
    "    'Chi-2:', chi2_stat.round(3),\n",
    "    '\\np_value:', p_value.round(3),\n",
    "    '\\nDegré de liberté:', dof,\n",
    "    '\\nfréquences attendues:', expected\n",
    ")"
   ],
   "id": "d5ebbec1bc4624d1",
   "outputs": [
    {
     "name": "stdout",
     "output_type": "stream",
     "text": [
      "Chi-2: 50.041 \n",
      "p_value: 0.06 \n",
      "Degré de liberté: 36 \n",
      "fréquences attendues: [[ 2.6    2.2    2.9    2.6    3.2    1.7    3.1    2.6    1.9    2.2  ]\n",
      " [ 4.16   3.52   4.64   4.16   5.12   2.72   4.96   4.16   3.04   3.52 ]\n",
      " [12.272 10.384 13.688 12.272 15.104  8.024 14.632 12.272  8.968 10.384]\n",
      " [ 2.808  2.376  3.132  2.808  3.456  1.836  3.348  2.808  2.052  2.376]\n",
      " [ 4.16   3.52   4.64   4.16   5.12   2.72   4.96   4.16   3.04   3.52 ]]\n"
     ]
    }
   ],
   "execution_count": 143
  },
  {
   "metadata": {},
   "cell_type": "markdown",
   "source": [
    "Le Chi² est élevé, donc on a un écart important entre les valeurs observées et les valeurs attendues. De plus, la valeur p est supérieur à 0.05, alors on n'a pas de preuve suffisante pour rejetter l'hypothèse H0.\n",
    "Nos deux variables sont ainsi indépendantes et du coup, à notre question de départ, on répondra : ***Il n’y a pas de préférence marquée pour une catégorie de produits dans une ville par rapport à une autre.***"
   ],
   "id": "ecfceaea14aba8a1"
  },
  {
   "metadata": {},
   "cell_type": "markdown",
   "source": "***II.*** On s'est ensuite demandé si les commandes étaient annulées pour certaines catégories de produits en particulier. Et grâce à la visualisation réalisée, on avait constaté un fort taux d'annulation pour les catégories Book et Home Appliances. Cependant, même pour les autres catégories de produits ce taux était quand même élevé et du coup, on avait retenu que cela était plus une affaire liée à une mauvaise gestion des commandes qu'à un lien réel entre catégorie et statut. À présent, vérifions cela: Il s'agit ici de deux variables catégorielles, l'une à 5 et l'autre 3 sous-catégories. Nous utiliserons donc aussi le ***test de Chi²***.",
   "id": "56ab4bb75e056675"
  },
  {
   "metadata": {
    "ExecuteTime": {
     "end_time": "2025-05-19T20:47:55.628330Z",
     "start_time": "2025-05-19T20:47:55.620713Z"
    }
   },
   "cell_type": "code",
   "source": [
    "# Tableau de contingence\n",
    "statut = data['status']\n",
    "table_contingency = pd.crosstab(categorie, statut)\n",
    "table_contingency"
   ],
   "id": "ba4f64542a64f7b4",
   "outputs": [
    {
     "data": {
      "text/plain": [
       "status           Cancelled  Completed  Pending\n",
       "category                                      \n",
       "Books                    7          6       12\n",
       "Clothing                13         15       12\n",
       "Electronics             33         44       41\n",
       "Footwear                 8         10        9\n",
       "Home Appliances         16         13       11"
      ],
      "text/html": [
       "<div>\n",
       "<style scoped>\n",
       "    .dataframe tbody tr th:only-of-type {\n",
       "        vertical-align: middle;\n",
       "    }\n",
       "\n",
       "    .dataframe tbody tr th {\n",
       "        vertical-align: top;\n",
       "    }\n",
       "\n",
       "    .dataframe thead th {\n",
       "        text-align: right;\n",
       "    }\n",
       "</style>\n",
       "<table border=\"1\" class=\"dataframe\">\n",
       "  <thead>\n",
       "    <tr style=\"text-align: right;\">\n",
       "      <th>status</th>\n",
       "      <th>Cancelled</th>\n",
       "      <th>Completed</th>\n",
       "      <th>Pending</th>\n",
       "    </tr>\n",
       "    <tr>\n",
       "      <th>category</th>\n",
       "      <th></th>\n",
       "      <th></th>\n",
       "      <th></th>\n",
       "    </tr>\n",
       "  </thead>\n",
       "  <tbody>\n",
       "    <tr>\n",
       "      <th>Books</th>\n",
       "      <td>7</td>\n",
       "      <td>6</td>\n",
       "      <td>12</td>\n",
       "    </tr>\n",
       "    <tr>\n",
       "      <th>Clothing</th>\n",
       "      <td>13</td>\n",
       "      <td>15</td>\n",
       "      <td>12</td>\n",
       "    </tr>\n",
       "    <tr>\n",
       "      <th>Electronics</th>\n",
       "      <td>33</td>\n",
       "      <td>44</td>\n",
       "      <td>41</td>\n",
       "    </tr>\n",
       "    <tr>\n",
       "      <th>Footwear</th>\n",
       "      <td>8</td>\n",
       "      <td>10</td>\n",
       "      <td>9</td>\n",
       "    </tr>\n",
       "    <tr>\n",
       "      <th>Home Appliances</th>\n",
       "      <td>16</td>\n",
       "      <td>13</td>\n",
       "      <td>11</td>\n",
       "    </tr>\n",
       "  </tbody>\n",
       "</table>\n",
       "</div>"
      ]
     },
     "execution_count": 144,
     "metadata": {},
     "output_type": "execute_result"
    }
   ],
   "execution_count": 144
  },
  {
   "metadata": {
    "ExecuteTime": {
     "end_time": "2025-05-19T20:47:55.875084Z",
     "start_time": "2025-05-19T20:47:55.683943Z"
    }
   },
   "cell_type": "code",
   "source": [
    "# Visualisation\n",
    "plt.figure(figsize=(20, 8))\n",
    "sns.clustermap(table_contingency)"
   ],
   "id": "c13f3ded4eb15cf3",
   "outputs": [
    {
     "data": {
      "text/plain": [
       "<seaborn.matrix.ClusterGrid at 0x7fe1c6734320>"
      ]
     },
     "execution_count": 145,
     "metadata": {},
     "output_type": "execute_result"
    },
    {
     "data": {
      "text/plain": [
       "<Figure size 2000x800 with 0 Axes>"
      ]
     },
     "metadata": {},
     "output_type": "display_data"
    },
    {
     "data": {
      "text/plain": [
       "<Figure size 1000x1000 with 4 Axes>"
      ],
      "image/png": "[encoded data removed]"
     },
     "metadata": {},
     "output_type": "display_data"
    }
   ],
   "execution_count": 145
  },
  {
   "metadata": {},
   "cell_type": "markdown",
   "source": [
    "Hypothèse nulle H0 : Le statut d'une commande est indépendante de la catégorie d'un produit.\n",
    "\n",
    "Hypothèse alternative H1 : Le statut d'une commande dépend de la catégorie d'un produit."
   ],
   "id": "c2bfa206fc637130"
  },
  {
   "metadata": {
    "ExecuteTime": {
     "end_time": "2025-05-19T20:47:55.887299Z",
     "start_time": "2025-05-19T20:47:55.884266Z"
    }
   },
   "cell_type": "code",
   "source": [
    "# Test du Chi-2\n",
    "chi2_stat, p_value, dof, expected = chi2_contingency(table_contingency)\n",
    "print(\n",
    "    'Chi-2:', chi2_stat.round(3),\n",
    "    '\\np_value:', p_value.round(3),\n",
    "    '\\nDegré de liberté:', dof,\n",
    "    '\\nfréquences attendues:', expected\n",
    ")"
   ],
   "id": "61da824e78bcf613",
   "outputs": [
    {
     "name": "stdout",
     "output_type": "stream",
     "text": [
      "Chi-2: 4.875 \n",
      "p_value: 0.771 \n",
      "Degré de liberté: 8 \n",
      "fréquences attendues: [[ 7.7    8.8    8.5  ]\n",
      " [12.32  14.08  13.6  ]\n",
      " [36.344 41.536 40.12 ]\n",
      " [ 8.316  9.504  9.18 ]\n",
      " [12.32  14.08  13.6  ]]\n"
     ]
    }
   ],
   "execution_count": 146
  },
  {
   "metadata": {},
   "cell_type": "markdown",
   "source": "La valeur p est supérieur à 0.05. Par conséquent, on n'a pas de preuve suffisante pour rejetter H0. Ansi, nos deux variables sont bien indépendantes. Notre Hypothèse initiale est donc valide, La commande d'aucune catégorie de produit n'est plus susceptible d'être annulé qu'une.",
   "id": "4616da13eb5d3635"
  },
  {
   "metadata": {},
   "cell_type": "markdown",
   "source": "***III.*** On s'est demandé, s'il existait une relation entre le prix et la quantité d'un produit lors d'une commande. Grâce au nuage de points et au coéfficient de Pearson, on a observé aucun lien linéaire entre ses deux variables. Cependant, l'existence d'un lien (pas forcément linéaire) est possible. Donc vérifions cela avec le ***test de Spearman***",
   "id": "6deb28bdafc8ee3a"
  },
  {
   "metadata": {},
   "cell_type": "markdown",
   "source": [
    "Hypothèse H0 : Il n'existe aucun lien entre nos deux variables\n",
    "\n",
    "Hypothèse H1 : Il existe un lien entre nos deux variables"
   ],
   "id": "be804d0f90bad7b5"
  },
  {
   "metadata": {
    "ExecuteTime": {
     "end_time": "2025-05-19T20:47:55.945575Z",
     "start_time": "2025-05-19T20:47:55.936669Z"
    }
   },
   "cell_type": "code",
   "source": [
    "# Test de Spearman\n",
    "r_stat, p_value = spearmanr(data['price'], data['quantity'])\n",
    "print(\n",
    "    'Coéfficient de Spearman:', r_stat,\n",
    "    '\\nValeur p:', p_value\n",
    ")"
   ],
   "id": "7dfba34d98287ea1",
   "outputs": [
    {
     "name": "stdout",
     "output_type": "stream",
     "text": [
      "Coéfficient de Spearman: 0.027335242093104745 \n",
      "Valeur p: 0.6671065420706883\n"
     ]
    }
   ],
   "execution_count": 147
  },
  {
   "metadata": {},
   "cell_type": "markdown",
   "source": "Le coéfficient est très faible et la p valeur est supérieur à 0.05, donc on ne peut pas rejetter l'hypothèse H0. D'où l'inexistance d'une relation entre ces deux variables.",
   "id": "b63a6fd27eafb2"
  },
  {
   "metadata": {},
   "cell_type": "markdown",
   "source": "***IV.*** On s'est ensuite demandé, s'il existait une relation entre le prix et le total des ventes d'un produit lors d'une commande. Par contre, ici grâce au nuage de points, on a observé un lien linéaire entre ses deux variables. Vérifions cela avec le ***test de Pearson***",
   "id": "604bd7724ef40560"
  },
  {
   "metadata": {},
   "cell_type": "markdown",
   "source": [
    "Hypothèse H0 : Il n'existe aucun lien entre nos deux variables\n",
    "\n",
    "Hypothèse H1 : Il existe un lien entre nos deux variables"
   ],
   "id": "5f5b52ef63d9effa"
  },
  {
   "metadata": {
    "ExecuteTime": {
     "end_time": "2025-05-19T20:47:55.997332Z",
     "start_time": "2025-05-19T20:47:55.992612Z"
    }
   },
   "cell_type": "code",
   "source": [
    "# Test de Pearson\n",
    "r_stat, p_value = pearsonr(data['price'], data['total_sales'])\n",
    "print(\n",
    "    'Coéfficient de Pearson:', r_stat,\n",
    "    '\\nValeur p:', p_value\n",
    ")"
   ],
   "id": "1a89cb8e47a238",
   "outputs": [
    {
     "name": "stdout",
     "output_type": "stream",
     "text": [
      "Coéfficient de Pearson: 0.8466734881861273 \n",
      "Valeur p: 6.680221108499094e-70\n"
     ]
    }
   ],
   "execution_count": 148
  },
  {
   "metadata": {},
   "cell_type": "markdown",
   "source": "Le coéfficient de Pearson est très fort et la p valeur est inférieur à 0.05, donc on rejette l'hypothèse H0. Il existe alors une corrélation linaire entre ces deux variables. Notre hypothèse de départ est ainsi approuvée",
   "id": "7fc62ce491f8cfff"
  },
  {
   "metadata": {},
   "cell_type": "markdown",
   "source": "***V.*** On s'est demandé, si le prix des produits influencait le statut de la commande. Du coup, on a construit des boxplots et nous avions conclu qu'il était très peu probable qu'il y existe une relation. Il s'agit d'une variable quantitative et une variable qualitatives à 3 sous-catégories.",
   "id": "aebc47df151f5d4c"
  },
  {
   "metadata": {
    "ExecuteTime": {
     "end_time": "2025-05-19T20:47:56.052818Z",
     "start_time": "2025-05-19T20:47:56.049391Z"
    }
   },
   "cell_type": "code",
   "source": [
    "# Test de normalité\n",
    "norm_stat, p_value = shapiro(data['price'])\n",
    "alpha = 0.05\n",
    "if p_value > alpha :\n",
    "    print('Les données suivent une loi normale')\n",
    "else:\n",
    "    print('Les données ne suivent pas une loi normale')"
   ],
   "id": "d6160112fddd740d",
   "outputs": [
    {
     "name": "stdout",
     "output_type": "stream",
     "text": [
      "Les données ne suivent pas une loi normale\n"
     ]
    }
   ],
   "execution_count": 149
  },
  {
   "metadata": {},
   "cell_type": "markdown",
   "source": "On ne pourra donc pas utiliser de test paramétrique. On utilisera ainsi le ***test de Kruskal-Wallis***",
   "id": "9d61f19af4316cb6"
  },
  {
   "metadata": {},
   "cell_type": "markdown",
   "source": [
    "On commence par définir nos hypothèses :\n",
    "\n",
    "Hypothèse nulle H0 : Les distributions des groupes sont identiques\n",
    "\n",
    "Hypothèse alternative H1 : La distribution d'au moins un des groupes est différente."
   ],
   "id": "95f6c443c6d4d3e"
  },
  {
   "metadata": {
    "ExecuteTime": {
     "end_time": "2025-05-19T20:47:56.108972Z",
     "start_time": "2025-05-19T20:47:56.102050Z"
    }
   },
   "cell_type": "code",
   "source": [
    "# Test de Kruskal-Wallis\n",
    "statut_cancelled = data.loc[data.status == \"Cancelled\", 'price']\n",
    "statut_pending = data.loc[data.status == \"Pending\", 'price']\n",
    "statut_completed = data.loc[data.status == \"Completed\", 'price']\n",
    "stat, p_value = kruskal(statut_cancelled, statut_pending, statut_completed)\n",
    "print(\n",
    "    'statistique:', stat,\n",
    "    '\\nValeur p:', p_value\n",
    ")"
   ],
   "id": "4862cf5f2cbe01c2",
   "outputs": [
    {
     "name": "stdout",
     "output_type": "stream",
     "text": [
      "statistique: 0.4744273295417578 \n",
      "Valeur p: 0.7888227263833127\n"
     ]
    }
   ],
   "execution_count": 150
  },
  {
   "metadata": {},
   "cell_type": "markdown",
   "source": "La p valeur étant supérieur à 0.05, on n'a pas de preuve suffisante pour rejetter H0. Par conséquent, les distributions des groupes sont identiques et il n'y a pas de relation entre le prix et le statut de la commande. Notre hypothèse de départ est donc bien vérifiée.",
   "id": "413ef8bb36dbc8d3"
  },
  {
   "metadata": {},
   "cell_type": "markdown",
   "source": "***VI.*** On s'est demandé, si plus le montant total de la commande est élévée plus le client aura tendance à ne pas l'à completer. Du coup, on a également construit des boxplots et nous avions conclu qu'il semblait n'y avoir aucune relation entre ces deux variables. Il s'agit d'une variable quantitative et une variable qualitatives à 3 sous-catégories.",
   "id": "25c7fe41cf5d4d"
  },
  {
   "metadata": {
    "ExecuteTime": {
     "end_time": "2025-05-19T20:47:56.165157Z",
     "start_time": "2025-05-19T20:47:56.159535Z"
    }
   },
   "cell_type": "code",
   "source": [
    "# Test de normalité\n",
    "norm_stat, p_value = shapiro(data['total_sales'])\n",
    "alpha = 0.05\n",
    "if p_value > alpha :\n",
    "    print('Les données suivent une loi normale')\n",
    "else:\n",
    "    print('Les données ne suivent pas une loi normale')"
   ],
   "id": "6b736efa707196b9",
   "outputs": [
    {
     "name": "stdout",
     "output_type": "stream",
     "text": [
      "Les données ne suivent pas une loi normale\n"
     ]
    }
   ],
   "execution_count": 151
  },
  {
   "metadata": {},
   "cell_type": "markdown",
   "source": "On ne pourra donc pas utiliser de test paramétrique. On utilisera ainsi le ***test de Kruskal-Wallis***",
   "id": "df28fdfe2c9de25a"
  },
  {
   "metadata": {},
   "cell_type": "markdown",
   "source": [
    "On commence par définir nos hypothèses :\n",
    "\n",
    "Hypothèse nulle H0 : Les distributions des groupes sont identiques\n",
    "\n",
    "Hypothèse alternative H1 : La distribution d'au moins un des groupes est différente."
   ],
   "id": "7ee0ff3505e08945"
  },
  {
   "metadata": {
    "ExecuteTime": {
     "end_time": "2025-05-19T20:47:56.221406Z",
     "start_time": "2025-05-19T20:47:56.215438Z"
    }
   },
   "cell_type": "code",
   "source": [
    "# Test de Kruskal-Wallis\n",
    "statut_cancelled = data.loc[data.status == \"Cancelled\", 'total_sales']\n",
    "statut_pending = data.loc[data.status == \"Pending\", 'total_sales']\n",
    "statut_completed = data.loc[data.status == \"Completed\", 'total_sales']\n",
    "stat, p_value = kruskal(statut_cancelled, statut_pending, statut_completed)\n",
    "print(\n",
    "    'statistique:', stat,\n",
    "    '\\nValeur p:', p_value\n",
    ")"
   ],
   "id": "f525819287452305",
   "outputs": [
    {
     "name": "stdout",
     "output_type": "stream",
     "text": [
      "statistique: 0.6318593485214357 \n",
      "Valeur p: 0.7291107236153378\n"
     ]
    }
   ],
   "execution_count": 152
  },
  {
   "metadata": {},
   "cell_type": "markdown",
   "source": "La p valeur étant supérieur à 0.05, on n'a pas de preuve suffisante pour rejetter H0. Par conséquent, les distributions des groupes sont identiques et il n'y a pas de relation entre le montant total de la commande et son statut. Notre hypothèse de départ est donc également bien vérifiée.",
   "id": "d3c54ab349c6d988"
  },
  {
   "metadata": {},
   "cell_type": "markdown",
   "source": "***VII.*** On s'est enfin demandé, si le moyen de paiement influencait le statut de la commande ?. Du coup, on a construit un Heatmap et il semblait y avoir une relation entre ces deux variables. Il s'agit de deux variables qualitatives, l'une a 3 sous-catégories et l'autre cinq. On utilisera donc le ***test du Chi²***.",
   "id": "dc526e3dc2808e97"
  },
  {
   "metadata": {
    "ExecuteTime": {
     "end_time": "2025-05-19T20:47:56.292853Z",
     "start_time": "2025-05-19T20:47:56.275941Z"
    }
   },
   "cell_type": "code",
   "source": [
    "# Tableau de contingence\n",
    "payment = data['payment_method']\n",
    "table_contingency = pd.crosstab(payment, statut)\n",
    "table_contingency"
   ],
   "id": "b68f809a63d7ed4a",
   "outputs": [
    {
     "data": {
      "text/plain": [
       "status          Cancelled  Completed  Pending\n",
       "payment_method                               \n",
       "Amazon Pay              7         21       13\n",
       "Credit Card            16         17       21\n",
       "Debit Card             20         14       19\n",
       "Gift Card              18          6       18\n",
       "PayPal                 16         30       14"
      ],
      "text/html": [
       "<div>\n",
       "<style scoped>\n",
       "    .dataframe tbody tr th:only-of-type {\n",
       "        vertical-align: middle;\n",
       "    }\n",
       "\n",
       "    .dataframe tbody tr th {\n",
       "        vertical-align: top;\n",
       "    }\n",
       "\n",
       "    .dataframe thead th {\n",
       "        text-align: right;\n",
       "    }\n",
       "</style>\n",
       "<table border=\"1\" class=\"dataframe\">\n",
       "  <thead>\n",
       "    <tr style=\"text-align: right;\">\n",
       "      <th>status</th>\n",
       "      <th>Cancelled</th>\n",
       "      <th>Completed</th>\n",
       "      <th>Pending</th>\n",
       "    </tr>\n",
       "    <tr>\n",
       "      <th>payment_method</th>\n",
       "      <th></th>\n",
       "      <th></th>\n",
       "      <th></th>\n",
       "    </tr>\n",
       "  </thead>\n",
       "  <tbody>\n",
       "    <tr>\n",
       "      <th>Amazon Pay</th>\n",
       "      <td>7</td>\n",
       "      <td>21</td>\n",
       "      <td>13</td>\n",
       "    </tr>\n",
       "    <tr>\n",
       "      <th>Credit Card</th>\n",
       "      <td>16</td>\n",
       "      <td>17</td>\n",
       "      <td>21</td>\n",
       "    </tr>\n",
       "    <tr>\n",
       "      <th>Debit Card</th>\n",
       "      <td>20</td>\n",
       "      <td>14</td>\n",
       "      <td>19</td>\n",
       "    </tr>\n",
       "    <tr>\n",
       "      <th>Gift Card</th>\n",
       "      <td>18</td>\n",
       "      <td>6</td>\n",
       "      <td>18</td>\n",
       "    </tr>\n",
       "    <tr>\n",
       "      <th>PayPal</th>\n",
       "      <td>16</td>\n",
       "      <td>30</td>\n",
       "      <td>14</td>\n",
       "    </tr>\n",
       "  </tbody>\n",
       "</table>\n",
       "</div>"
      ]
     },
     "execution_count": 153,
     "metadata": {},
     "output_type": "execute_result"
    }
   ],
   "execution_count": 153
  },
  {
   "metadata": {},
   "cell_type": "markdown",
   "source": [
    "Hypothèse nulle H0 : Le statut d'une commande est indépendante du moyen de paiement.\n",
    "\n",
    "Hypothèse alternative H1 : Le statut d'une commande dépend du moyen de paiement."
   ],
   "id": "a8a224e83f8cee35"
  },
  {
   "metadata": {
    "ExecuteTime": {
     "end_time": "2025-05-19T20:47:56.339671Z",
     "start_time": "2025-05-19T20:47:56.336271Z"
    }
   },
   "cell_type": "code",
   "source": [
    "# Test du Chi-2\n",
    "chi2_stat, p_value, dof, expected = chi2_contingency(table_contingency)\n",
    "print(\n",
    "    'Chi-2:', chi2_stat.round(3),\n",
    "    '\\np_value:', p_value.round(3),\n",
    "    '\\nDegré de liberté:', dof,\n",
    "    '\\nfréquences attendues:', expected\n",
    ")"
   ],
   "id": "bad2ae26db3bd8e8",
   "outputs": [
    {
     "name": "stdout",
     "output_type": "stream",
     "text": [
      "Chi-2: 22.464 \n",
      "p_value: 0.004 \n",
      "Degré de liberté: 8 \n",
      "fréquences attendues: [[12.628 14.432 13.94 ]\n",
      " [16.632 19.008 18.36 ]\n",
      " [16.324 18.656 18.02 ]\n",
      " [12.936 14.784 14.28 ]\n",
      " [18.48  21.12  20.4  ]]\n"
     ]
    }
   ],
   "execution_count": 154
  },
  {
   "metadata": {},
   "cell_type": "markdown",
   "source": [
    "La valeur du Chi² indique qu'il y a un écart important entre la distribution attendu et celle obtenue. De plus, La p valeur est inférieur à 0.05, donc on rejette l'hypthèse H0 et par conséquent, Le statut de la commande dépend éffectivement du moyen de paiement. La question qu'on se pose à présent est : quels moyens de paiement sont à la source de l'annulation de la plupart des commandes ?\n",
    "\n",
    "Pour y répondre, on se sert du graphe suivant :"
   ],
   "id": "8631804aa513d997"
  },
  {
   "metadata": {
    "ExecuteTime": {
     "end_time": "2025-05-19T20:48:50.298389Z",
     "start_time": "2025-05-19T20:48:50.121087Z"
    }
   },
   "cell_type": "code",
   "source": [
    "# Taux d'annulation par moyen de paiement\n",
    "table = table_contingency['Cancelled'] / (table_contingency['Cancelled']+table_contingency['Completed']+table_contingency['Pending'])\n",
    "table.sort_values(ascending=False, inplace=True)\n",
    "\n",
    "# Visualisation\n",
    "plt.figure(figsize=(20, 8))\n",
    "plt.title(\"Nombre de commandes annulées par mode de paiement\", fontsize=30)\n",
    "plt.xlabel('Méthode de paiement', fontsize=25, labelpad=20); plt.ylabel('Taux d\\'annulation de commandes', fontsize=25, labelpad=20)\n",
    "plt.tick_params(labelsize=20)\n",
    "table.plot(kind='bar', color=['red', 'orange', 'yellow', 'yellow', 'green'])"
   ],
   "id": "f622c3ca7d11f3ea",
   "outputs": [
    {
     "data": {
      "text/plain": [
       "<Axes: title={'center': 'Nombre de commandes annulées par mode de paiement'}, xlabel='payment_method', ylabel=\"Taux d'annulation de commandes\">"
      ]
     },
     "execution_count": 156,
     "metadata": {},
     "output_type": "execute_result"
    },
    {
     "data": {
      "text/plain": [
       "<Figure size 2000x800 with 1 Axes>"
      ],
      "image/png": "[encoded data removed]"
     },
     "metadata": {},
     "output_type": "display_data"
    }
   ],
   "execution_count": 156
  },
  {
   "metadata": {},
   "cell_type": "markdown",
   "source": "D'après le graphe ci-dessus, on observe un taux élevé d'annulation des commandes payées par carte cadeaux. Nous devrons donc privilégier les paiements par Amazon Pay et au pire par PayPal ou Carte de crédit.",
   "id": "3b3a2138c28eced8"
  }
 ],
 "metadata": {
  "kernelspec": {
   "display_name": "Python 3",
   "language": "python",
   "name": "python3"
  },
  "language_info": {
   "codemirror_mode": {
    "name": "ipython",
    "version": 2
   },
   "file_extension": ".py",
   "mimetype": "text/x-python",
   "name": "python",
   "nbconvert_exporter": "python",
   "pygments_lexer": "ipython2",
   "version": "2.7.6"
  }
 },
 "nbformat": 4,
 "nbformat_minor": 5
}
